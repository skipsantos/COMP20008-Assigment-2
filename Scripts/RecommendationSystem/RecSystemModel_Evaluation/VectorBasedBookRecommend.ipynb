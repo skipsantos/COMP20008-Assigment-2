{
 "cells": [
  {
   "cell_type": "code",
   "execution_count": null,
   "metadata": {
    "id": "UPy4HykXhnSY"
   },
   "outputs": [],
   "source": [
    "# This Python 3 environment comes with many helpful analytics libraries installed\n",
    "# It is defined by the kaggle/python Docker image: https://github.com/kaggle/docker-python\n",
    "# For example, here's several helpful packages to load\n",
    "\n",
    "import numpy as np # linear algebra\n",
    "import pandas as pd # data processing, CSV file I/O (e.g. pd.read_csv)\n",
    "\n",
    "# Input data files are available in the read-only \"../input/\" directory\n",
    "# For example, running this (by clicking run or pressing Shift+Enter) will list all files under the input directory\n",
    "\n",
    "import os\n",
    "for dirname, _, filenames in os.walk('/kaggle/input'):\n",
    "    for filename in filenames:\n",
    "        print(os.path.join(dirname, filename))\n",
    "\n",
    "# You can write up to 20GB to the current directory (/kaggle/working/) that gets preserved as output when you create a version using \"Save & Run All\"\n",
    "# You can also write temporary files to /kaggle/temp/, but they won't be saved outside of the current session"
   ]
  },
  {
   "cell_type": "code",
   "execution_count": null,
   "metadata": {
    "colab": {
     "background_save": true,
     "base_uri": "https://localhost:8080/"
    },
    "id": "bxRs67PkhnSZ",
    "outputId": "f02d742e-5592-4b02-a443-5eb64fa9b850"
   },
   "outputs": [
    {
     "name": "stdout",
     "output_type": "stream",
     "text": [
      "\n",
      "Recommend Book\n",
      "\n",
      "Drawing on the Right Side of the Brain: A Course in Enhancing Creativity and Artistic Confidence by Betty Edwards published in 1989 by Putnam Pub Group\n",
      "Too Much Too Soon by Jacqueline Briskin published in 1991 by Berkley Pub Group\n",
      "The Hundred Secret Senses by Amy Tan published in 1995 by Putnam Pub Group\n",
      "Southern Cross by Patricia Daniels Cornwell published in 1999 by Putnam Pub Group\n",
      "The List by Steven Paul Martini published in 1997 by Putnam Pub Group\n",
      "Friendship with God: An Uncommon Dialogue by Neale Donald Walsch published in 1999 by Putnam Publishing Group\n",
      "That Camden Summer by Lavyrle Spencer published in 1996 by Putnam Pub Group\n"
     ]
    }
   ],
   "source": [
    "from sklearn.feature_extraction.text import CountVectorizer\n",
    "from sklearn.metrics.pairwise import cosine_similarity\n",
    "\n",
    "def load_data(input_path):\n",
    "    # Load and return all datasets\n",
    "    users = pd.read_csv(os.path.join(input_path, 'BX-NewBooksUsers.csv'))\n",
    "    ratings = pd.read_csv(os.path.join(input_path, 'BX-Ratings.csv'))\n",
    "    books_old = pd.read_csv(os.path.join(input_path, 'BX-Books.csv'))\n",
    "    new_books = pd.read_csv(os.path.join(input_path, 'BX-NewBooks.csv'))\n",
    "    books = pd.concat([books_old, new_books]).drop_duplicates(subset=[\"Book-Title\"], keep='first')\n",
    "    return users, ratings, books, books_old, new_books\n",
    "\n",
    "def prepare_data(books):\n",
    "    # Prepare book data by creating a tags column and vectorizing it\n",
    "    books['tags'] = books['Book-Author'] + \" \" + books['Book-Title'] + \" \" + books['Book-Publisher'] + \" \" + books['Year-Of-Publication'].astype(str)\n",
    "    cv = CountVectorizer(max_features=500, stop_words=\"english\")\n",
    "    vectors = cv.fit_transform(books[\"tags\"]).toarray()\n",
    "    return vectors\n",
    "\n",
    "def find_similar_books(book_id, books, new_books, vectors):\n",
    "    # Calculate similarity and find similar books\n",
    "    similarity = cosine_similarity(vectors)\n",
    "    try:\n",
    "        book_idx = new_books.index[new_books['ISBN'] == book_id].tolist()[0]\n",
    "        similar_books = sorted(list(enumerate(similarity[book_idx])), key=lambda x: x[1], reverse=True)[1:10]\n",
    "        return similar_books\n",
    "    except IndexError:\n",
    "        print(\"Book ID not found in dataset.\")\n",
    "        return []\n",
    "\n",
    "def recommend_books(user_id, book_id, ratings, books, books_old, similar_books):\n",
    "    # Recommend books based on the cosine similarity scores\n",
    "    print(\"\\nRecommend Book\\n\")\n",
    "    for idx, sim_score in similar_books:\n",
    "        similar_isbn = books.iloc[idx]['ISBN']\n",
    "        if similar_isbn in books['ISBN'].values:\n",
    "            book_title = books.iloc[idx]['Book-Title']\n",
    "            book_author = books.iloc[idx]['Book-Author']\n",
    "            isbn_ratings = ratings[ratings[\"ISBN\"] == similar_isbn]\n",
    "            book_year = books.iloc[idx]['Year-Of-Publication']\n",
    "            book_publisher = books.iloc[idx]['Book-Publisher']\n",
    "            if not isbn_ratings.empty:\n",
    "                print(f\"{book_title} by {book_author} published in {book_year} by {book_publisher}\")\n",
    "\n",
    "def recommend(user_id, book_id, input_path):\n",
    "    users, ratings, books, books_old, new_books = load_data(input_path)\n",
    "    vectors = prepare_data(books)\n",
    "    similar_books = find_similar_books(book_id, books, new_books, vectors)\n",
    "    if similar_books:\n",
    "        recommend_books(user_id, book_id, ratings, books, books_old, similar_books)\n",
    "\n",
    "def main():\n",
    "    input_path = '../../Data-Files/Raw-Files'\n",
    "    recommend(276762, \"0425163091\", input_path)\n",
    "\n",
    "main()\n"
   ]
  }
 ],
 "metadata": {
  "colab": {
   "machine_shape": "hm",
   "provenance": []
  },
  "kaggle": {
   "accelerator": "none",
   "dataSources": [
    {
     "datasetId": 4900939,
     "sourceId": 8257973,
     "sourceType": "datasetVersion"
    }
   ],
   "dockerImageVersionId": 30698,
   "isGpuEnabled": false,
   "isInternetEnabled": true,
   "language": "python",
   "sourceType": "notebook"
  },
  "kernelspec": {
   "display_name": "Python 3",
   "name": "python3"
  },
  "language_info": {
   "codemirror_mode": {
    "name": "ipython",
    "version": 3
   },
   "file_extension": ".py",
   "mimetype": "text/x-python",
   "name": "python",
   "nbconvert_exporter": "python",
   "pygments_lexer": "ipython3",
   "version": "3.10.13"
  }
 },
 "nbformat": 4,
 "nbformat_minor": 0
}
